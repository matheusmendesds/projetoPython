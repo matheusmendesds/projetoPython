{
 "cells": [
  {
   "cell_type": "code",
   "execution_count": 1,
   "metadata": {},
   "outputs": [],
   "source": [
    "%matplotlib notebook"
   ]
  },
  {
   "cell_type": "code",
   "execution_count": 2,
   "metadata": {
    "colab": {
     "base_uri": "https://localhost:8080/"
    },
    "id": "P-1XhE9mfkjV",
    "outputId": "77a0c5e5-ce84-458c-f869-3c2a96213169"
   },
   "outputs": [
    {
     "name": "stdout",
     "output_type": "stream",
     "text": [
      "Requirement already satisfied: mplcursors in c:\\users\\masin\\anaconda3\\lib\\site-packages (0.6)\n",
      "Requirement already satisfied: matplotlib!=3.7.1,>=3.1 in c:\\users\\masin\\anaconda3\\lib\\site-packages (from mplcursors) (3.10.0)\n",
      "Requirement already satisfied: contourpy>=1.0.1 in c:\\users\\masin\\anaconda3\\lib\\site-packages (from matplotlib!=3.7.1,>=3.1->mplcursors) (1.3.1)\n",
      "Requirement already satisfied: cycler>=0.10 in c:\\users\\masin\\anaconda3\\lib\\site-packages (from matplotlib!=3.7.1,>=3.1->mplcursors) (0.11.0)\n",
      "Requirement already satisfied: fonttools>=4.22.0 in c:\\users\\masin\\anaconda3\\lib\\site-packages (from matplotlib!=3.7.1,>=3.1->mplcursors) (4.55.3)\n",
      "Requirement already satisfied: kiwisolver>=1.3.1 in c:\\users\\masin\\anaconda3\\lib\\site-packages (from matplotlib!=3.7.1,>=3.1->mplcursors) (1.4.8)\n",
      "Requirement already satisfied: numpy>=1.23 in c:\\users\\masin\\anaconda3\\lib\\site-packages (from matplotlib!=3.7.1,>=3.1->mplcursors) (2.1.3)\n",
      "Requirement already satisfied: packaging>=20.0 in c:\\users\\masin\\anaconda3\\lib\\site-packages (from matplotlib!=3.7.1,>=3.1->mplcursors) (24.2)\n",
      "Requirement already satisfied: pillow>=8 in c:\\users\\masin\\anaconda3\\lib\\site-packages (from matplotlib!=3.7.1,>=3.1->mplcursors) (11.1.0)\n",
      "Requirement already satisfied: pyparsing>=2.3.1 in c:\\users\\masin\\anaconda3\\lib\\site-packages (from matplotlib!=3.7.1,>=3.1->mplcursors) (3.2.0)\n",
      "Requirement already satisfied: python-dateutil>=2.7 in c:\\users\\masin\\anaconda3\\lib\\site-packages (from matplotlib!=3.7.1,>=3.1->mplcursors) (2.9.0.post0)\n",
      "Requirement already satisfied: six>=1.5 in c:\\users\\masin\\anaconda3\\lib\\site-packages (from python-dateutil>=2.7->matplotlib!=3.7.1,>=3.1->mplcursors) (1.17.0)\n",
      "Note: you may need to restart the kernel to use updated packages.\n"
     ]
    }
   ],
   "source": [
    "pip install mplcursors"
   ]
  },
  {
   "cell_type": "code",
   "execution_count": 9,
   "metadata": {
    "id": "4bvaVLgvdroV"
   },
   "outputs": [
    {
     "name": "stdout",
     "output_type": "stream",
     "text": [
      "Requirement already satisfied: ipympl in c:\\users\\masin\\anaconda3\\lib\\site-packages (0.9.7)\n",
      "Requirement already satisfied: ipython<10 in c:\\users\\masin\\anaconda3\\lib\\site-packages (from ipympl) (8.30.0)\n",
      "Requirement already satisfied: ipywidgets<9,>=7.6.0 in c:\\users\\masin\\anaconda3\\lib\\site-packages (from ipympl) (8.1.5)\n",
      "Requirement already satisfied: matplotlib<4,>=3.5.0 in c:\\users\\masin\\anaconda3\\lib\\site-packages (from ipympl) (3.10.0)\n",
      "Requirement already satisfied: numpy in c:\\users\\masin\\anaconda3\\lib\\site-packages (from ipympl) (2.1.3)\n",
      "Requirement already satisfied: pillow in c:\\users\\masin\\anaconda3\\lib\\site-packages (from ipympl) (11.1.0)\n",
      "Requirement already satisfied: traitlets<6 in c:\\users\\masin\\anaconda3\\lib\\site-packages (from ipympl) (5.14.3)\n",
      "Requirement already satisfied: decorator in c:\\users\\masin\\anaconda3\\lib\\site-packages (from ipython<10->ipympl) (5.1.1)\n",
      "Requirement already satisfied: jedi>=0.16 in c:\\users\\masin\\anaconda3\\lib\\site-packages (from ipython<10->ipympl) (0.19.2)\n",
      "Requirement already satisfied: matplotlib-inline in c:\\users\\masin\\anaconda3\\lib\\site-packages (from ipython<10->ipympl) (0.1.6)\n",
      "Requirement already satisfied: prompt-toolkit<3.1.0,>=3.0.41 in c:\\users\\masin\\anaconda3\\lib\\site-packages (from ipython<10->ipympl) (3.0.43)\n",
      "Requirement already satisfied: pygments>=2.4.0 in c:\\users\\masin\\anaconda3\\lib\\site-packages (from ipython<10->ipympl) (2.19.1)\n",
      "Requirement already satisfied: stack-data in c:\\users\\masin\\anaconda3\\lib\\site-packages (from ipython<10->ipympl) (0.2.0)\n",
      "Requirement already satisfied: colorama in c:\\users\\masin\\anaconda3\\lib\\site-packages (from ipython<10->ipympl) (0.4.6)\n",
      "Requirement already satisfied: comm>=0.1.3 in c:\\users\\masin\\anaconda3\\lib\\site-packages (from ipywidgets<9,>=7.6.0->ipympl) (0.2.1)\n",
      "Requirement already satisfied: widgetsnbextension~=4.0.12 in c:\\users\\masin\\anaconda3\\lib\\site-packages (from ipywidgets<9,>=7.6.0->ipympl) (4.0.13)\n",
      "Requirement already satisfied: jupyterlab_widgets~=3.0.12 in c:\\users\\masin\\anaconda3\\lib\\site-packages (from ipywidgets<9,>=7.6.0->ipympl) (3.0.13)\n",
      "Requirement already satisfied: contourpy>=1.0.1 in c:\\users\\masin\\anaconda3\\lib\\site-packages (from matplotlib<4,>=3.5.0->ipympl) (1.3.1)\n",
      "Requirement already satisfied: cycler>=0.10 in c:\\users\\masin\\anaconda3\\lib\\site-packages (from matplotlib<4,>=3.5.0->ipympl) (0.11.0)\n",
      "Requirement already satisfied: fonttools>=4.22.0 in c:\\users\\masin\\anaconda3\\lib\\site-packages (from matplotlib<4,>=3.5.0->ipympl) (4.55.3)\n",
      "Requirement already satisfied: kiwisolver>=1.3.1 in c:\\users\\masin\\anaconda3\\lib\\site-packages (from matplotlib<4,>=3.5.0->ipympl) (1.4.8)\n",
      "Requirement already satisfied: packaging>=20.0 in c:\\users\\masin\\anaconda3\\lib\\site-packages (from matplotlib<4,>=3.5.0->ipympl) (24.2)\n",
      "Requirement already satisfied: pyparsing>=2.3.1 in c:\\users\\masin\\anaconda3\\lib\\site-packages (from matplotlib<4,>=3.5.0->ipympl) (3.2.0)\n",
      "Requirement already satisfied: python-dateutil>=2.7 in c:\\users\\masin\\anaconda3\\lib\\site-packages (from matplotlib<4,>=3.5.0->ipympl) (2.9.0.post0)\n",
      "Requirement already satisfied: wcwidth in c:\\users\\masin\\anaconda3\\lib\\site-packages (from prompt-toolkit<3.1.0,>=3.0.41->ipython<10->ipympl) (0.2.5)\n",
      "Requirement already satisfied: parso<0.9.0,>=0.8.4 in c:\\users\\masin\\anaconda3\\lib\\site-packages (from jedi>=0.16->ipython<10->ipympl) (0.8.4)\n",
      "Requirement already satisfied: six>=1.5 in c:\\users\\masin\\anaconda3\\lib\\site-packages (from python-dateutil>=2.7->matplotlib<4,>=3.5.0->ipympl) (1.17.0)\n",
      "Requirement already satisfied: executing in c:\\users\\masin\\anaconda3\\lib\\site-packages (from stack-data->ipython<10->ipympl) (0.8.3)\n",
      "Requirement already satisfied: asttokens in c:\\users\\masin\\anaconda3\\lib\\site-packages (from stack-data->ipython<10->ipympl) (3.0.0)\n",
      "Requirement already satisfied: pure-eval in c:\\users\\masin\\anaconda3\\lib\\site-packages (from stack-data->ipython<10->ipympl) (0.2.2)\n",
      "Note: you may need to restart the kernel to use updated packages.\n"
     ]
    }
   ],
   "source": [
    "pip install ipympl"
   ]
  },
  {
   "cell_type": "code",
   "execution_count": 2,
   "metadata": {
    "id": "iElEs06Ua6I_"
   },
   "outputs": [],
   "source": [
    "\n",
    "import pandas as pd\n",
    "import matplotlib.pyplot as plt\n",
    "import seaborn as sns\n",
    "import plotly.express as px\n",
    "import mplcursors"
   ]
  },
  {
   "cell_type": "code",
   "execution_count": 3,
   "metadata": {
    "id": "jHI-9RXjbZqj"
   },
   "outputs": [],
   "source": [
    "DataBase = pd.read_csv('Curry.csv')"
   ]
  },
  {
   "cell_type": "code",
   "execution_count": 4,
   "metadata": {
    "colab": {
     "base_uri": "https://localhost:8080/"
    },
    "id": "c0Bt7BjcbiW0",
    "outputId": "c07c77af-2a06-405e-9c51-7c7328a121a8"
   },
   "outputs": [
    {
     "data": {
      "text/plain": [
       "Index(['Season', 'Age', 'G', 'GS', 'MP', 'FG', 'FGA', 'FG%', '3P', '3PA',\n",
       "       '3P%', '2P', '2PA', '2P%', 'eFG%', 'FT', 'FTA', 'FT%', 'ORB', 'DRB',\n",
       "       'TRB', 'AST', 'STL', 'BLK', 'TOV', 'PF', 'PTS', 'Trp-Dbl'],\n",
       "      dtype='object')"
      ]
     },
     "execution_count": 4,
     "metadata": {},
     "output_type": "execute_result"
    }
   ],
   "source": [
    "DataBase.columns"
   ]
  },
  {
   "cell_type": "code",
   "execution_count": 5,
   "metadata": {
    "colab": {
     "base_uri": "https://localhost:8080/",
     "height": 360
    },
    "id": "ssXiUOQ6bkcG",
    "outputId": "8199e9ca-2f0c-48cd-aac0-b33a87bb1cff"
   },
   "outputs": [
    {
     "data": {
      "text/html": [
       "<div>\n",
       "<style scoped>\n",
       "    .dataframe tbody tr th:only-of-type {\n",
       "        vertical-align: middle;\n",
       "    }\n",
       "\n",
       "    .dataframe tbody tr th {\n",
       "        vertical-align: top;\n",
       "    }\n",
       "\n",
       "    .dataframe thead th {\n",
       "        text-align: right;\n",
       "    }\n",
       "</style>\n",
       "<table border=\"1\" class=\"dataframe\">\n",
       "  <thead>\n",
       "    <tr style=\"text-align: right;\">\n",
       "      <th></th>\n",
       "      <th>Season</th>\n",
       "      <th>Age</th>\n",
       "      <th>G</th>\n",
       "      <th>GS</th>\n",
       "      <th>MP</th>\n",
       "      <th>FG</th>\n",
       "      <th>FGA</th>\n",
       "      <th>FG%</th>\n",
       "      <th>3P</th>\n",
       "      <th>3PA</th>\n",
       "      <th>...</th>\n",
       "      <th>ORB</th>\n",
       "      <th>DRB</th>\n",
       "      <th>TRB</th>\n",
       "      <th>AST</th>\n",
       "      <th>STL</th>\n",
       "      <th>BLK</th>\n",
       "      <th>TOV</th>\n",
       "      <th>PF</th>\n",
       "      <th>PTS</th>\n",
       "      <th>Trp-Dbl</th>\n",
       "    </tr>\n",
       "  </thead>\n",
       "  <tbody>\n",
       "    <tr>\n",
       "      <th>0</th>\n",
       "      <td>2009-10</td>\n",
       "      <td>21</td>\n",
       "      <td>80</td>\n",
       "      <td>77</td>\n",
       "      <td>2896</td>\n",
       "      <td>528</td>\n",
       "      <td>1143</td>\n",
       "      <td>462</td>\n",
       "      <td>166</td>\n",
       "      <td>380</td>\n",
       "      <td>...</td>\n",
       "      <td>48</td>\n",
       "      <td>308</td>\n",
       "      <td>356</td>\n",
       "      <td>472</td>\n",
       "      <td>152</td>\n",
       "      <td>19</td>\n",
       "      <td>243</td>\n",
       "      <td>252</td>\n",
       "      <td>1399</td>\n",
       "      <td>1</td>\n",
       "    </tr>\n",
       "    <tr>\n",
       "      <th>1</th>\n",
       "      <td>2010-11</td>\n",
       "      <td>22</td>\n",
       "      <td>74</td>\n",
       "      <td>74</td>\n",
       "      <td>2489</td>\n",
       "      <td>505</td>\n",
       "      <td>1053</td>\n",
       "      <td>480</td>\n",
       "      <td>151</td>\n",
       "      <td>342</td>\n",
       "      <td>...</td>\n",
       "      <td>52</td>\n",
       "      <td>234</td>\n",
       "      <td>286</td>\n",
       "      <td>432</td>\n",
       "      <td>109</td>\n",
       "      <td>20</td>\n",
       "      <td>226</td>\n",
       "      <td>233</td>\n",
       "      <td>1373</td>\n",
       "      <td>0</td>\n",
       "    </tr>\n",
       "    <tr>\n",
       "      <th>2</th>\n",
       "      <td>2011-12</td>\n",
       "      <td>23</td>\n",
       "      <td>26</td>\n",
       "      <td>23</td>\n",
       "      <td>732</td>\n",
       "      <td>145</td>\n",
       "      <td>296</td>\n",
       "      <td>490</td>\n",
       "      <td>55</td>\n",
       "      <td>121</td>\n",
       "      <td>...</td>\n",
       "      <td>15</td>\n",
       "      <td>73</td>\n",
       "      <td>88</td>\n",
       "      <td>138</td>\n",
       "      <td>39</td>\n",
       "      <td>8</td>\n",
       "      <td>65</td>\n",
       "      <td>62</td>\n",
       "      <td>383</td>\n",
       "      <td>0</td>\n",
       "    </tr>\n",
       "    <tr>\n",
       "      <th>3</th>\n",
       "      <td>2012-13</td>\n",
       "      <td>24</td>\n",
       "      <td>78</td>\n",
       "      <td>78</td>\n",
       "      <td>2983</td>\n",
       "      <td>626</td>\n",
       "      <td>1388</td>\n",
       "      <td>451</td>\n",
       "      <td>272</td>\n",
       "      <td>600</td>\n",
       "      <td>...</td>\n",
       "      <td>59</td>\n",
       "      <td>255</td>\n",
       "      <td>314</td>\n",
       "      <td>539</td>\n",
       "      <td>126</td>\n",
       "      <td>12</td>\n",
       "      <td>240</td>\n",
       "      <td>198</td>\n",
       "      <td>1786</td>\n",
       "      <td>0</td>\n",
       "    </tr>\n",
       "    <tr>\n",
       "      <th>4</th>\n",
       "      <td>2013-14</td>\n",
       "      <td>25</td>\n",
       "      <td>78</td>\n",
       "      <td>78</td>\n",
       "      <td>2846</td>\n",
       "      <td>652</td>\n",
       "      <td>1383</td>\n",
       "      <td>471</td>\n",
       "      <td>261</td>\n",
       "      <td>615</td>\n",
       "      <td>...</td>\n",
       "      <td>46</td>\n",
       "      <td>288</td>\n",
       "      <td>334</td>\n",
       "      <td>666</td>\n",
       "      <td>128</td>\n",
       "      <td>14</td>\n",
       "      <td>294</td>\n",
       "      <td>194</td>\n",
       "      <td>1873</td>\n",
       "      <td>4</td>\n",
       "    </tr>\n",
       "  </tbody>\n",
       "</table>\n",
       "<p>5 rows × 28 columns</p>\n",
       "</div>"
      ],
      "text/plain": [
       "    Season  Age   G  GS    MP   FG   FGA  FG%   3P  3PA  ...  ORB  DRB  TRB  \\\n",
       "0  2009-10   21  80  77  2896  528  1143  462  166  380  ...   48  308  356   \n",
       "1  2010-11   22  74  74  2489  505  1053  480  151  342  ...   52  234  286   \n",
       "2  2011-12   23  26  23   732  145   296  490   55  121  ...   15   73   88   \n",
       "3  2012-13   24  78  78  2983  626  1388  451  272  600  ...   59  255  314   \n",
       "4  2013-14   25  78  78  2846  652  1383  471  261  615  ...   46  288  334   \n",
       "\n",
       "   AST  STL  BLK  TOV   PF   PTS  Trp-Dbl  \n",
       "0  472  152   19  243  252  1399        1  \n",
       "1  432  109   20  226  233  1373        0  \n",
       "2  138   39    8   65   62   383        0  \n",
       "3  539  126   12  240  198  1786        0  \n",
       "4  666  128   14  294  194  1873        4  \n",
       "\n",
       "[5 rows x 28 columns]"
      ]
     },
     "execution_count": 5,
     "metadata": {},
     "output_type": "execute_result"
    }
   ],
   "source": [
    "DataBase.head()"
   ]
  },
  {
   "cell_type": "code",
   "execution_count": 7,
   "metadata": {
    "colab": {
     "base_uri": "https://localhost:8080/"
    },
    "id": "VfON14t1cSEY",
    "outputId": "3fc17656-2c61-4c36-c149-d2091c927115"
   },
   "outputs": [
    {
     "data": {
      "text/plain": [
       "np.int64(1026)"
      ]
     },
     "execution_count": 7,
     "metadata": {},
     "output_type": "execute_result"
    }
   ],
   "source": [
    "DataBase['G'].sum()"
   ]
  },
  {
   "cell_type": "code",
   "execution_count": 9,
   "metadata": {
    "colab": {
     "base_uri": "https://localhost:8080/",
     "height": 404
    },
    "id": "o1Z7376hcagr",
    "outputId": "a6255491-1e8a-4e91-a0dd-659220ce17e7"
   },
   "outputs": [
    {
     "data": {
      "image/png": "[encoded data removed]",
      "text/plain": [
       "<Figure size 1400x600 with 1 Axes>"
      ]
     },
     "metadata": {},
     "output_type": "display_data"
    }
   ],
   "source": [
    "plt.figure(figsize=(14,6))\n",
    "sns.scatterplot(data=DataBase, x=\"Season\", y=\"3P\")\n",
    "plt.show()"
   ]
  },
  {
   "cell_type": "code",
   "execution_count": 18,
   "metadata": {
    "id": "sFFT9V2Ie21E"
   },
   "outputs": [
    {
     "ename": "TypeError",
     "evalue": "Value after * must be an iterable, not int",
     "output_type": "error",
     "traceback": [
      "\u001b[1;31m---------------------------------------------------------------------------\u001b[0m",
      "\u001b[1;31mTypeError\u001b[0m                                 Traceback (most recent call last)",
      "Cell \u001b[1;32mIn[18], line 1\u001b[0m\n\u001b[1;32m----> 1\u001b[0m plt\u001b[38;5;241m.\u001b[39mfigure(\u001b[38;5;241m14\u001b[39m,\u001b[38;5;241m6\u001b[39m)\n\u001b[0;32m      3\u001b[0m sns\u001b[38;5;241m.\u001b[39mscatterplot(data\u001b[38;5;241m=\u001b[39mDataBase, x\u001b[38;5;241m=\u001b[39m\u001b[38;5;124m\"\u001b[39m\u001b[38;5;124mSeason\u001b[39m\u001b[38;5;124m\"\u001b[39m, y\u001b[38;5;241m=\u001b[39m\u001b[38;5;124m\"\u001b[39m\u001b[38;5;124mORB\u001b[39m\u001b[38;5;124m\"\u001b[39m)\n\u001b[0;32m      4\u001b[0m plt\u001b[38;5;241m.\u001b[39mshow()\n",
      "File \u001b[1;32m~\\anaconda3\\Lib\\site-packages\\matplotlib\\pyplot.py:1042\u001b[0m, in \u001b[0;36mfigure\u001b[1;34m(num, figsize, dpi, facecolor, edgecolor, frameon, FigureClass, clear, **kwargs)\u001b[0m\n\u001b[0;32m   1032\u001b[0m \u001b[38;5;28;01mif\u001b[39;00m \u001b[38;5;28mlen\u001b[39m(allnums) \u001b[38;5;241m==\u001b[39m max_open_warning \u001b[38;5;241m>\u001b[39m\u001b[38;5;241m=\u001b[39m \u001b[38;5;241m1\u001b[39m:\n\u001b[0;32m   1033\u001b[0m     _api\u001b[38;5;241m.\u001b[39mwarn_external(\n\u001b[0;32m   1034\u001b[0m         \u001b[38;5;124mf\u001b[39m\u001b[38;5;124m\"\u001b[39m\u001b[38;5;124mMore than \u001b[39m\u001b[38;5;132;01m{\u001b[39;00mmax_open_warning\u001b[38;5;132;01m}\u001b[39;00m\u001b[38;5;124m figures have been opened. \u001b[39m\u001b[38;5;124m\"\u001b[39m\n\u001b[0;32m   1035\u001b[0m         \u001b[38;5;124mf\u001b[39m\u001b[38;5;124m\"\u001b[39m\u001b[38;5;124mFigures created through the pyplot interface \u001b[39m\u001b[38;5;124m\"\u001b[39m\n\u001b[1;32m   (...)\u001b[0m\n\u001b[0;32m   1039\u001b[0m         \u001b[38;5;124mf\u001b[39m\u001b[38;5;124m\"\u001b[39m\u001b[38;5;124mConsider using `matplotlib.pyplot.close()`.\u001b[39m\u001b[38;5;124m\"\u001b[39m,\n\u001b[0;32m   1040\u001b[0m         \u001b[38;5;167;01mRuntimeWarning\u001b[39;00m)\n\u001b[1;32m-> 1042\u001b[0m manager \u001b[38;5;241m=\u001b[39m new_figure_manager(\n\u001b[0;32m   1043\u001b[0m     num, figsize\u001b[38;5;241m=\u001b[39mfigsize, dpi\u001b[38;5;241m=\u001b[39mdpi,\n\u001b[0;32m   1044\u001b[0m     facecolor\u001b[38;5;241m=\u001b[39mfacecolor, edgecolor\u001b[38;5;241m=\u001b[39medgecolor, frameon\u001b[38;5;241m=\u001b[39mframeon,\n\u001b[0;32m   1045\u001b[0m     FigureClass\u001b[38;5;241m=\u001b[39mFigureClass, \u001b[38;5;241m*\u001b[39m\u001b[38;5;241m*\u001b[39mkwargs)\n\u001b[0;32m   1046\u001b[0m fig \u001b[38;5;241m=\u001b[39m manager\u001b[38;5;241m.\u001b[39mcanvas\u001b[38;5;241m.\u001b[39mfigure\n\u001b[0;32m   1047\u001b[0m \u001b[38;5;28;01mif\u001b[39;00m fig_label:\n",
      "File \u001b[1;32m~\\anaconda3\\Lib\\site-packages\\matplotlib\\pyplot.py:552\u001b[0m, in \u001b[0;36mnew_figure_manager\u001b[1;34m(*args, **kwargs)\u001b[0m\n\u001b[0;32m    550\u001b[0m \u001b[38;5;250m\u001b[39m\u001b[38;5;124;03m\"\"\"Create a new figure manager instance.\"\"\"\u001b[39;00m\n\u001b[0;32m    551\u001b[0m _warn_if_gui_out_of_main_thread()\n\u001b[1;32m--> 552\u001b[0m \u001b[38;5;28;01mreturn\u001b[39;00m _get_backend_mod()\u001b[38;5;241m.\u001b[39mnew_figure_manager(\u001b[38;5;241m*\u001b[39margs, \u001b[38;5;241m*\u001b[39m\u001b[38;5;241m*\u001b[39mkwargs)\n",
      "File \u001b[1;32m~\\anaconda3\\Lib\\site-packages\\matplotlib_inline\\backend_inline.py:27\u001b[0m, in \u001b[0;36mnew_figure_manager\u001b[1;34m(num, FigureClass, *args, **kwargs)\u001b[0m\n\u001b[0;32m     21\u001b[0m \u001b[38;5;28;01mdef\u001b[39;00m\u001b[38;5;250m \u001b[39m\u001b[38;5;21mnew_figure_manager\u001b[39m(num, \u001b[38;5;241m*\u001b[39margs, FigureClass\u001b[38;5;241m=\u001b[39mFigure, \u001b[38;5;241m*\u001b[39m\u001b[38;5;241m*\u001b[39mkwargs):\n\u001b[0;32m     22\u001b[0m \u001b[38;5;250m    \u001b[39m\u001b[38;5;124;03m\"\"\"\u001b[39;00m\n\u001b[0;32m     23\u001b[0m \u001b[38;5;124;03m    Return a new figure manager for a new figure instance.\u001b[39;00m\n\u001b[0;32m     24\u001b[0m \n\u001b[0;32m     25\u001b[0m \u001b[38;5;124;03m    This function is part of the API expected by Matplotlib backends.\u001b[39;00m\n\u001b[0;32m     26\u001b[0m \u001b[38;5;124;03m    \"\"\"\u001b[39;00m\n\u001b[1;32m---> 27\u001b[0m     \u001b[38;5;28;01mreturn\u001b[39;00m new_figure_manager_given_figure(num, FigureClass(\u001b[38;5;241m*\u001b[39margs, \u001b[38;5;241m*\u001b[39m\u001b[38;5;241m*\u001b[39mkwargs))\n",
      "File \u001b[1;32m~\\anaconda3\\Lib\\site-packages\\matplotlib\\figure.py:2626\u001b[0m, in \u001b[0;36mFigure.__init__\u001b[1;34m(self, figsize, dpi, facecolor, edgecolor, linewidth, frameon, subplotpars, tight_layout, constrained_layout, layout, **kwargs)\u001b[0m\n\u001b[0;32m   2623\u001b[0m \u001b[38;5;28;01mif\u001b[39;00m \u001b[38;5;129;01mnot\u001b[39;00m np\u001b[38;5;241m.\u001b[39misfinite(figsize)\u001b[38;5;241m.\u001b[39mall() \u001b[38;5;129;01mor\u001b[39;00m (np\u001b[38;5;241m.\u001b[39marray(figsize) \u001b[38;5;241m<\u001b[39m \u001b[38;5;241m0\u001b[39m)\u001b[38;5;241m.\u001b[39many():\n\u001b[0;32m   2624\u001b[0m     \u001b[38;5;28;01mraise\u001b[39;00m \u001b[38;5;167;01mValueError\u001b[39;00m(\u001b[38;5;124m'\u001b[39m\u001b[38;5;124mfigure size must be positive finite not \u001b[39m\u001b[38;5;124m'\u001b[39m\n\u001b[0;32m   2625\u001b[0m                      \u001b[38;5;124mf\u001b[39m\u001b[38;5;124m'\u001b[39m\u001b[38;5;132;01m{\u001b[39;00mfigsize\u001b[38;5;132;01m}\u001b[39;00m\u001b[38;5;124m'\u001b[39m)\n\u001b[1;32m-> 2626\u001b[0m \u001b[38;5;28mself\u001b[39m\u001b[38;5;241m.\u001b[39mbbox_inches \u001b[38;5;241m=\u001b[39m Bbox\u001b[38;5;241m.\u001b[39mfrom_bounds(\u001b[38;5;241m0\u001b[39m, \u001b[38;5;241m0\u001b[39m, \u001b[38;5;241m*\u001b[39mfigsize)\n\u001b[0;32m   2628\u001b[0m \u001b[38;5;28mself\u001b[39m\u001b[38;5;241m.\u001b[39mdpi_scale_trans \u001b[38;5;241m=\u001b[39m Affine2D()\u001b[38;5;241m.\u001b[39mscale(dpi)\n\u001b[0;32m   2629\u001b[0m \u001b[38;5;66;03m# do not use property as it will trigger\u001b[39;00m\n",
      "\u001b[1;31mTypeError\u001b[0m: Value after * must be an iterable, not int"
     ]
    }
   ],
   "source": [
    "plt.figure(14,6)\n",
    "\n",
    "sns.scatterplot(data=DataBase, x=\"Season\", y=\"ORB\")\n",
    "plt.show()"
   ]
  },
  {
   "cell_type": "code",
   "execution_count": null,
   "metadata": {},
   "outputs": [],
   "source": []
  }
 ],
 "metadata": {
  "colab": {
   "provenance": []
  },
  "kernelspec": {
   "display_name": "Python [conda env:base] *",
   "language": "python",
   "name": "conda-base-py"
  },
  "language_info": {
   "codemirror_mode": {
    "name": "ipython",
    "version": 3
   },
   "file_extension": ".py",
   "mimetype": "text/x-python",
   "name": "python",
   "nbconvert_exporter": "python",
   "pygments_lexer": "ipython3",
   "version": "3.13.5"
  }
 },
 "nbformat": 4,
 "nbformat_minor": 4
}
