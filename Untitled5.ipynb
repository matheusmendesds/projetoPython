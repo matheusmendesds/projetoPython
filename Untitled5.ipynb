{
 "cells": [
  {
   "cell_type": "code",
   "execution_count": null,
   "metadata": {
    "colab": {
     "base_uri": "https://localhost:8080/"
    },
    "id": "P-1XhE9mfkjV",
    "outputId": "77a0c5e5-ce84-458c-f869-3c2a96213169"
   },
   "outputs": [],
   "source": [
    "pip install mplcursors"
   ]
  },
  {
   "cell_type": "code",
   "execution_count": null,
   "metadata": {
    "id": "iElEs06Ua6I_"
   },
   "outputs": [],
   "source": [
    "%matplotlib notebook\n",
    "import pandas as pd\n",
    "import matplotlib.pyplot as plt\n",
    "import seaborn as sns\n",
    "import plotly.express as px\n",
    "import mplcursors"
   ]
  },
  {
   "cell_type": "code",
   "execution_count": null,
   "metadata": {
    "id": "jHI-9RXjbZqj"
   },
   "outputs": [],
   "source": [
    "DataBase = pd.read_csv('Curry.csv')"
   ]
  },
  {
   "cell_type": "code",
   "execution_count": null,
   "metadata": {
    "colab": {
     "base_uri": "https://localhost:8080/"
    },
    "id": "c0Bt7BjcbiW0",
    "outputId": "c07c77af-2a06-405e-9c51-7c7328a121a8"
   },
   "outputs": [],
   "source": [
    "DataBase.columns"
   ]
  },
  {
   "cell_type": "code",
   "execution_count": null,
   "metadata": {
    "colab": {
     "base_uri": "https://localhost:8080/",
     "height": 360
    },
    "id": "ssXiUOQ6bkcG",
    "outputId": "8199e9ca-2f0c-48cd-aac0-b33a87bb1cff"
   },
   "outputs": [],
   "source": [
    "DataBase.head()"
   ]
  },
  {
   "cell_type": "code",
   "execution_count": null,
   "metadata": {
    "colab": {
     "base_uri": "https://localhost:8080/"
    },
    "id": "VfON14t1cSEY",
    "outputId": "3fc17656-2c61-4c36-c149-d2091c927115"
   },
   "outputs": [],
   "source": [
    "DataBase['G'].sum()"
   ]
  },
  {
   "cell_type": "code",
   "execution_count": null,
   "metadata": {
    "colab": {
     "base_uri": "https://localhost:8080/",
     "height": 404
    },
    "id": "o1Z7376hcagr",
    "outputId": "a6255491-1e8a-4e91-a0dd-659220ce17e7"
   },
   "outputs": [],
   "source": [
    "plt.figure(figsize=(12,6))\n",
    "ax = sns.scatterplot(data=DataBase, x=\"Season\", y=\"3P\")\n",
    "\n",
    "# Ativar tooltip\n",
    "cursor = mplcursors.cursor(ax.collections[0], hover=True)\n",
    "\n",
    "@cursor.connect(\"add\")\n",
    "def on_add(sel):\n",
    "    i = sel.index\n",
    "    season = DataBase.iloc[i][\"Season\"]\n",
    "    made = DataBase.iloc[i][\"3P\"]\n",
    "    attempts = DataBase.iloc[i][\"3PA\"]\n",
    "    sel.annotation.set(text=f\"Season: {season}\\n3P: {made}\\n3PA: {attempts}\")\n",
    "\n",
    "plt.show()"
   ]
  },
  {
   "cell_type": "code",
   "execution_count": null,
   "metadata": {
    "id": "4bvaVLgvdroV"
   },
   "outputs": [],
   "source": []
  },
  {
   "cell_type": "code",
   "execution_count": null,
   "metadata": {
    "id": "sFFT9V2Ie21E"
   },
   "outputs": [],
   "source": []
  }
 ],
 "metadata": {
  "colab": {
   "provenance": []
  },
  "kernelspec": {
   "display_name": "Python [conda env:base] *",
   "language": "python",
   "name": "conda-base-py"
  },
  "language_info": {
   "codemirror_mode": {
    "name": "ipython",
    "version": 3
   },
   "file_extension": ".py",
   "mimetype": "text/x-python",
   "name": "python",
   "nbconvert_exporter": "python",
   "pygments_lexer": "ipython3",
   "version": "3.13.5"
  }
 },
 "nbformat": 4,
 "nbformat_minor": 4
}
